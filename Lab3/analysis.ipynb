{
 "cells": [
  {
   "cell_type": "code",
   "execution_count": null,
   "metadata": {},
   "outputs": [],
   "source": [
    "import matplotlib.pyplot as plt\n",
    "import time\n",
    "from fibonacci import fibonacci, dynamic_fibonacci\n",
    "import sys"
   ]
  },
  {
   "cell_type": "code",
   "execution_count": null,
   "metadata": {},
   "outputs": [],
   "source": [
    "sys.setrecursionlimit(10000)"
   ]
  },
  {
   "cell_type": "code",
   "execution_count": null,
   "metadata": {},
   "outputs": [],
   "source": [
    "def measure_time(func, n, k = 1):\n",
    "    start = time.time()\n",
    "    for i in range(k):\n",
    "        func(n)\n",
    "    end = time.time()\n",
    "    return (end - start)/k"
   ]
  },
  {
   "cell_type": "code",
   "execution_count": null,
   "metadata": {},
   "outputs": [],
   "source": [
    "input_sizes = list(range(5, 60, 2))\n",
    "recursive_times = [measure_time(fibonacci, n, 5) for n in input_sizes]\n",
    "dynamic_times = [measure_time(dynamic_fibonacci, n, 5) for n in input_sizes]"
   ]
  },
  {
   "cell_type": "code",
   "execution_count": null,
   "metadata": {},
   "outputs": [],
   "source": [
    "plt.figure(figsize=(12, 6))\n",
    "\n",
    "# Plot recursive times (skipping None values)\n",
    "plt.plot(\n",
    "    input_sizes,\n",
    "    recursive_times,\n",
    "    label=\"Recursive Fibonacci\",\n",
    "    marker=\"o\",\n",
    "    color=\"red\"\n",
    ")\n",
    "\n",
    "# Plot dynamic times\n",
    "plt.plot(input_sizes, \n",
    "         dynamic_times, \n",
    "         label=\"Dynamic Fibonacci\", \n",
    "         marker=\"o\", \n",
    "         color=\"blue\")\n",
    "\n",
    "# Graph formatting\n",
    "plt.title(\"Performance Comparison: Recursive vs Dynamic Fibonacci\")\n",
    "plt.xlabel(\"Input Size (n)\")\n",
    "plt.ylabel(\"Execution Time (seconds)\")\n",
    "plt.legend()\n",
    "plt.grid(True)\n",
    "plt.tight_layout()\n",
    "\n",
    "# Show the plot\n",
    "plt.show()"
   ]
  }
 ],
 "metadata": {
  "kernelspec": {
   "display_name": "env",
   "language": "python",
   "name": "python3"
  },
  "language_info": {
   "name": "python",
   "version": "3.12.1"
  }
 },
 "nbformat": 4,
 "nbformat_minor": 2
}
